{
 "cells": [
  {
   "cell_type": "markdown",
   "id": "41bcaf2a-be08-4834-bb82-875d7de99159",
   "metadata": {},
   "source": [
    "This is a notebook meant for the potential replacement of our old notebook. I (Michael) am pretty sure that we're switching to keras and tensorflow rather than tensorflow and numpy."
   ]
  },
  {
   "cell_type": "code",
   "execution_count": null,
   "id": "f32ec948-4191-4258-bf9d-0bf5066fd41f",
   "metadata": {},
   "outputs": [],
   "source": []
  }
 ],
 "metadata": {
  "kernelspec": {
   "display_name": "Python 3 (ipykernel)",
   "language": "python",
   "name": "python3"
  },
  "language_info": {
   "codemirror_mode": {
    "name": "ipython",
    "version": 3
   },
   "file_extension": ".py",
   "mimetype": "text/x-python",
   "name": "python",
   "nbconvert_exporter": "python",
   "pygments_lexer": "ipython3",
   "version": "3.12.4"
  }
 },
 "nbformat": 4,
 "nbformat_minor": 5
}
