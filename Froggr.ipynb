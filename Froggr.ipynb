{
 "cells": [
  {
   "cell_type": "code",
   "execution_count": 41,
   "id": "bf1a6008-35a1-4810-a322-754df2c4aaa8",
   "metadata": {},
   "outputs": [
    {
     "name": "stdout",
     "output_type": "stream",
     "text": [
      "^C\n"
     ]
    }
   ],
   "source": [
    "!pip install ultralytics opencv-python"
   ]
  },
  {
   "cell_type": "code",
   "execution_count": 4,
   "id": "a95ed04b-72d8-4790-8b78-74fb1ee174bd",
   "metadata": {},
   "outputs": [],
   "source": []
  },
  {
   "cell_type": "code",
   "execution_count": 5,
   "id": "48fe1fb9-08c9-4b8c-abbd-9212a028f6c8",
   "metadata": {},
   "outputs": [],
   "source": [
    "import pandas as pd"
   ]
  },
  {
   "cell_type": "markdown",
   "id": "167d80a9-211a-478a-9537-f65276224036",
   "metadata": {},
   "source": [
    "https://ale.farama.org/environments/frogger/\n",
    "\\n\n",
    "https://ale.farama.org/environments/"
   ]
  },
  {
   "cell_type": "code",
   "execution_count": 12,
   "id": "bbbb75b2-8c40-43a0-b797-fb381874d070",
   "metadata": {},
   "outputs": [],
   "source": [
    "import gymnasium as gym\n",
    "import os\n",
    "import ale_py\n",
    "import time\n",
    "import matplotlib.pyplot as plt\n",
    "import cv2"
   ]
  },
  {
   "cell_type": "code",
   "execution_count": 7,
   "id": "4f570358-3e12-46a7-8c94-fb7a899108cc",
   "metadata": {},
   "outputs": [
    {
     "data": {
      "image/png": "[encoded data removed]",
      "text/plain": [
       "<Figure size 640x480 with 1 Axes>"
      ]
     },
     "metadata": {},
     "output_type": "display_data"
    }
   ],
   "source": [
    "env = gym.make(\"ALE/Frogger-v5\", render_mode=\"rgb_array\", obs_type=\"grayscale\")\n",
    "obs, info = env.reset()\n",
    "plt.imshow(obs)\n",
    "plt.show()"
   ]
  },
  {
   "cell_type": "code",
   "execution_count": 9,
   "id": "d7aec054-a541-47f1-aedd-8143fa0c63da",
   "metadata": {},
   "outputs": [
    {
     "name": "stdout",
     "output_type": "stream",
     "text": [
      "PRO TIP  Replace 'model=yolov5s.pt' with new 'model=yolov5su.pt'.\n",
      "YOLOv5 'u' models are trained with https://github.com/ultralytics/ultralytics and feature improved performance vs standard YOLOv5 models trained with https://github.com/ultralytics/yolov5.\n",
      "\n",
      "Downloading https://github.com/ultralytics/assets/releases/download/v8.3.0/yolov5su.pt to 'yolov5su.pt'...\n"
     ]
    },
    {
     "name": "stderr",
     "output_type": "stream",
     "text": [
      "100%|██████████| 17.7M/17.7M [00:01<00:00, 10.5MB/s]\n"
     ]
    }
   ],
   "source": [
    "from ultralytics import YOLO\n",
    "model = YOLO('yolov5s.pt')"
   ]
  },
  {
   "cell_type": "code",
   "execution_count": 19,
   "id": "cfd164dd-0f15-48dc-9372-594455637820",
   "metadata": {},
   "outputs": [
    {
     "name": "stdout",
     "output_type": "stream",
     "text": [
      "\n",
      "0: 640x512 (no detections), 503.0ms\n",
      "Speed: 11.4ms preprocess, 503.0ms inference, 2.1ms postprocess per image at shape (1, 3, 640, 512)\n",
      "Available classes: {0: 'person', 1: 'bicycle', 2: 'car', 3: 'motorcycle', 4: 'airplane', 5: 'bus', 6: 'train', 7: 'truck', 8: 'boat', 9: 'traffic light', 10: 'fire hydrant', 11: 'stop sign', 12: 'parking meter', 13: 'bench', 14: 'bird', 15: 'cat', 16: 'dog', 17: 'horse', 18: 'sheep', 19: 'cow', 20: 'elephant', 21: 'bear', 22: 'zebra', 23: 'giraffe', 24: 'backpack', 25: 'umbrella', 26: 'handbag', 27: 'tie', 28: 'suitcase', 29: 'frisbee', 30: 'skis', 31: 'snowboard', 32: 'sports ball', 33: 'kite', 34: 'baseball bat', 35: 'baseball glove', 36: 'skateboard', 37: 'surfboard', 38: 'tennis racket', 39: 'bottle', 40: 'wine glass', 41: 'cup', 42: 'fork', 43: 'knife', 44: 'spoon', 45: 'bowl', 46: 'banana', 47: 'apple', 48: 'sandwich', 49: 'orange', 50: 'broccoli', 51: 'carrot', 52: 'hot dog', 53: 'pizza', 54: 'donut', 55: 'cake', 56: 'chair', 57: 'couch', 58: 'potted plant', 59: 'bed', 60: 'dining table', 61: 'toilet', 62: 'tv', 63: 'laptop', 64: 'mouse', 65: 'remote', 66: 'keyboard', 67: 'cell phone', 68: 'microwave', 69: 'oven', 70: 'toaster', 71: 'sink', 72: 'refrigerator', 73: 'book', 74: 'clock', 75: 'vase', 76: 'scissors', 77: 'teddy bear', 78: 'hair drier', 79: 'toothbrush'}\n",
      "Detection results:\n",
      "Empty DataFrame\n",
      "Columns: []\n",
      "Index: []\n",
      "Class names: {0: 'person', 1: 'bicycle', 2: 'car', 3: 'motorcycle', 4: 'airplane', 5: 'bus', 6: 'train', 7: 'truck', 8: 'boat', 9: 'traffic light', 10: 'fire hydrant', 11: 'stop sign', 12: 'parking meter', 13: 'bench', 14: 'bird', 15: 'cat', 16: 'dog', 17: 'horse', 18: 'sheep', 19: 'cow', 20: 'elephant', 21: 'bear', 22: 'zebra', 23: 'giraffe', 24: 'backpack', 25: 'umbrella', 26: 'handbag', 27: 'tie', 28: 'suitcase', 29: 'frisbee', 30: 'skis', 31: 'snowboard', 32: 'sports ball', 33: 'kite', 34: 'baseball bat', 35: 'baseball glove', 36: 'skateboard', 37: 'surfboard', 38: 'tennis racket', 39: 'bottle', 40: 'wine glass', 41: 'cup', 42: 'fork', 43: 'knife', 44: 'spoon', 45: 'bowl', 46: 'banana', 47: 'apple', 48: 'sandwich', 49: 'orange', 50: 'broccoli', 51: 'carrot', 52: 'hot dog', 53: 'pizza', 54: 'donut', 55: 'cake', 56: 'chair', 57: 'couch', 58: 'potted plant', 59: 'bed', 60: 'dining table', 61: 'toilet', 62: 'tv', 63: 'laptop', 64: 'mouse', 65: 'remote', 66: 'keyboard', 67: 'cell phone', 68: 'microwave', 69: 'oven', 70: 'toaster', 71: 'sink', 72: 'refrigerator', 73: 'book', 74: 'clock', 75: 'vase', 76: 'scissors', 77: 'teddy bear', 78: 'hair drier', 79: 'toothbrush'}\n",
      "Identified frog classes: []\n",
      "Identified car classes: [2, 7, 51]\n",
      "Identified water classes: []\n",
      "Detected 0 frogs\n",
      "Detected 0 cars/vehicles\n",
      "Detected 0 water bodies\n",
      "Detected 0 other objects\n",
      "Frog positions: []\n",
      "Car positions: []\n",
      "Water positions: []\n"
     ]
    },
    {
     "data": {
      "image/png": "[encoded data removed]",
      "text/plain": [
       "<Figure size 1200x1200 with 1 Axes>"
      ]
     },
     "metadata": {},
     "output_type": "display_data"
    },
    {
     "data": {
      "image/png": "[encoded data removed]",
      "text/plain": [
       "<Figure size 1200x1200 with 1 Axes>"
      ]
     },
     "metadata": {},
     "output_type": "display_data"
    },
    {
     "name": "stdout",
     "output_type": "stream",
     "text": [
      "Elapsed time: 513.12 seconds\n",
      "Final Score: 0.0\n"
     ]
    }
   ],
   "source": [
    "def get_grid_positions(detections, grid_size=(10, 10), img_shape=None):\n",
    "    \"\"\"Maps object positions to a standardized grid.\n",
    "    \n",
    "    Args:\n",
    "        detections: List of detections (each containing x_center, y_center, width, height)\n",
    "        grid_size: Tuple of (rows, cols) for the grid\n",
    "        img_shape: Tuple of (height, width) of the image\n",
    "    \n",
    "    Returns:\n",
    "        List of grid positions as (grid_x, grid_y) tuples\n",
    "    \"\"\"\n",
    "    grid_positions = []\n",
    "    \n",
    "    if not detections or len(detections) == 0:\n",
    "        return []\n",
    "    \n",
    "    # If img_shape is provided, use it\n",
    "    if img_shape:\n",
    "        height, width = img_shape[:2]\n",
    "    else:\n",
    "        # Default to assuming coordinates are in pixels and the observation shape is available\n",
    "        try:\n",
    "            height, width = obs.shape[:2]\n",
    "        except:\n",
    "            # Fallback to assuming normalized coordinates (0-1)\n",
    "            height, width = 1.0, 1.0\n",
    "    \n",
    "    # Grid cell size\n",
    "    grid_width = width / grid_size[1]\n",
    "    grid_height = height / grid_size[0]\n",
    "    \n",
    "    for det in detections:\n",
    "        x_center, y_center = det[0], det[1]\n",
    "        grid_x = min(max(int(x_center // grid_width), 0), grid_size[1] - 1)\n",
    "        grid_y = min(max(int(y_center // grid_height), 0), grid_size[0] - 1)\n",
    "        grid_positions.append((grid_x, grid_y))\n",
    "    \n",
    "    return grid_positions\n",
    "\n",
    "# Process only a single frame\n",
    "action = env.action_space.sample()  # Sample an action, even though we won't loop\n",
    "obs, reward, terminated, truncated, info = env.step(action)\n",
    "score += reward\n",
    "\n",
    "# Convert observation to a format YOLO understands (e.g., BGR)\n",
    "obs_bgr = cv2.cvtColor(obs, cv2.COLOR_RGB2BGR)\n",
    "\n",
    "# Run YOLO object detection\n",
    "results = model(obs_bgr)\n",
    "\n",
    "# results is a list, so we access the first item\n",
    "result = results[0]  # Access the first result (this corresponds to our single frame)\n",
    "\n",
    "# Print available classes from the model to help with debugging\n",
    "print(\"Available classes:\", model.names)\n",
    "\n",
    "# Use the correct method to get detection information\n",
    "print(\"Detection results:\")\n",
    "result_df = result.to_df()\n",
    "print(result_df)\n",
    "\n",
    "# Extract bounding boxes and class information\n",
    "frogs = []\n",
    "cars = []\n",
    "water = []\n",
    "other_objects = []\n",
    "\n",
    "# Get class names from the model\n",
    "class_names = model.names\n",
    "print(f\"Class names: {class_names}\")\n",
    "\n",
    "# Find the correct class indices based on names (case insensitive)\n",
    "frog_classes = [i for i, name in class_names.items() if 'frog' in name.lower()]\n",
    "car_classes = [i for i, name in class_names.items() if 'car' in name.lower() or 'vehicle' in name.lower() or 'truck' in name.lower()]\n",
    "water_classes = [i for i, name in class_names.items() if 'water' in name.lower() or 'river' in name.lower() or 'lake' in name.lower() or 'pond' in name.lower()]\n",
    "\n",
    "print(f\"Identified frog classes: {frog_classes}\")\n",
    "print(f\"Identified car classes: {car_classes}\")\n",
    "print(f\"Identified water classes: {water_classes}\")\n",
    "\n",
    "# Loop through each detection\n",
    "for i in range(len(result.boxes)):\n",
    "    # Get box coordinates\n",
    "    box = result.boxes[i]\n",
    "    xywh = box.xywh[0].cpu().numpy()  # x-center, y-center, width, height\n",
    "    xyxy = box.xyxy[0].cpu().numpy()  # x1, y1, x2, y2 (top-left and bottom-right corners)\n",
    "    conf = float(box.conf[0].item())\n",
    "    cls = int(box.cls[0].item())\n",
    "    cls_name = class_names.get(cls, f\"Unknown-{cls}\")\n",
    "    \n",
    "    # Complete object info for categorization\n",
    "    obj_info = {\n",
    "        'xywh': xywh,\n",
    "        'xyxy': xyxy,\n",
    "        'conf': conf,\n",
    "        'cls': cls,\n",
    "        'cls_name': cls_name\n",
    "    }\n",
    "    \n",
    "    # Categorize based on class\n",
    "    if cls in frog_classes:\n",
    "        frogs.append(obj_info)\n",
    "    elif cls in car_classes:\n",
    "        cars.append(obj_info)\n",
    "    elif cls in water_classes:\n",
    "        water.append(obj_info)\n",
    "    else:\n",
    "        other_objects.append(obj_info)\n",
    "    \n",
    "    print(f\"Detected {cls_name} (Class ID: {cls}) with confidence {conf:.2f}\")\n",
    "\n",
    "# Get grid positions using xywh coordinates\n",
    "img_shape = obs.shape\n",
    "frog_positions = get_grid_positions([f['xywh'] for f in frogs], grid_size=(10, 10), img_shape=img_shape)\n",
    "car_positions = get_grid_positions([c['xywh'] for c in cars], grid_size=(10, 10), img_shape=img_shape)\n",
    "water_positions = get_grid_positions([w['xywh'] for w in water], grid_size=(10, 10), img_shape=img_shape)\n",
    "\n",
    "# Print detections for each category\n",
    "print(f\"Detected {len(frogs)} frogs\")\n",
    "print(f\"Detected {len(cars)} cars/vehicles\")\n",
    "print(f\"Detected {len(water)} water bodies\")\n",
    "print(f\"Detected {len(other_objects)} other objects\")\n",
    "\n",
    "# Print positions (or store them as needed)\n",
    "print(\"Frog positions:\", frog_positions)\n",
    "print(\"Car positions:\", car_positions)\n",
    "print(\"Water positions:\", water_positions)\n",
    "\n",
    "# Visualize detections\n",
    "obs_vis = obs_bgr.copy()\n",
    "\n",
    "# Define colors for visualization\n",
    "colors = {\n",
    "    'frog': (0, 255, 0),    # Green\n",
    "    'car': (0, 0, 255),     # Red\n",
    "    'water': (255, 0, 0),   # Blue\n",
    "    'other': (255, 255, 0)  # Cyan\n",
    "}\n",
    "\n",
    "# Draw all detections with appropriate colors and labels\n",
    "for category, objects, color_key in [\n",
    "    ('Frog', frogs, 'frog'),\n",
    "    ('Car', cars, 'car'),\n",
    "    ('Water', water, 'water'),\n",
    "    ('Other', other_objects, 'other')\n",
    "]:\n",
    "    for obj in objects:\n",
    "        # Get bounding box coordinates\n",
    "        x1, y1, x2, y2 = map(int, obj['xyxy'])\n",
    "        cls_name = obj['cls_name']\n",
    "        conf = obj['conf']\n",
    "        \n",
    "        # Draw bounding box\n",
    "        cv2.rectangle(obs_vis, (x1, y1), (x2, y2), colors[color_key], 2)\n",
    "        \n",
    "        # Draw label\n",
    "        label = f\"{cls_name} {conf:.2f}\"\n",
    "        t_size = cv2.getTextSize(label, cv2.FONT_HERSHEY_SIMPLEX, 0.4, 1)[0]\n",
    "        c2 = x1 + t_size[0], y1 - t_size[1] - 3\n",
    "        cv2.rectangle(obs_vis, (x1, y1), c2, colors[color_key], -1, cv2.LINE_AA)  # filled\n",
    "        cv2.putText(obs_vis, label, (x1, y1 - 2), cv2.FONT_HERSHEY_SIMPLEX, 0.4, (255, 255, 255), 1, cv2.LINE_AA)\n",
    "\n",
    "# Display the image with annotations\n",
    "plt.figure(figsize=(12, 12))\n",
    "plt.imshow(cv2.cvtColor(obs_vis, cv2.COLOR_BGR2RGB))\n",
    "plt.axis(\"off\")\n",
    "plt.title(f\"Detections: {len(frogs)} frogs, {len(cars)} cars, {len(water)} water bodies\")\n",
    "plt.show()\n",
    "\n",
    "# Draw grid overlay on a copy of the image to show grid positions\n",
    "grid_vis = obs_vis.copy()\n",
    "height, width = grid_vis.shape[:2]\n",
    "cell_height = height / 10\n",
    "cell_width = width / 10\n",
    "\n",
    "# Draw grid lines\n",
    "for i in range(11):\n",
    "    cv2.line(grid_vis, (0, int(i * cell_height)), (width, int(i * cell_height)), (255, 255, 255), 1)\n",
    "    cv2.line(grid_vis, (int(i * cell_width), 0), (int(i * cell_width), height), (255, 255, 255), 1)\n",
    "\n",
    "# Show grid visualization\n",
    "plt.figure(figsize=(12, 12))\n",
    "plt.imshow(cv2.cvtColor(grid_vis, cv2.COLOR_BGR2RGB))\n",
    "plt.axis(\"off\")\n",
    "plt.title(\"Grid Overlay\")\n",
    "plt.show()\n",
    "\n",
    "elapsed_time = time.time() - start_time\n",
    "print(f\"Elapsed time: {elapsed_time:.2f} seconds\")\n",
    "print(f\"Final Score: {score}\")"
   ]
  },
  {
   "cell_type": "code",
   "execution_count": null,
   "id": "bc188a0f-abdc-44cc-b669-60a34015a590",
   "metadata": {},
   "outputs": [],
   "source": [
    "\n",
    "obs, info = env.reset()\n",
    "start_time = time.time()\n",
    "print(\"start time:\", start_time)\n",
    "score = 0\n",
    "\n",
    "for _ in range(1000):\n",
    "    action = env.action_space.sample() \n",
    "    obs, reward, terminated, truncated, info = env.step(action)\n",
    "    score += reward\n",
    "\n",
    "    plt.figure(figsize=(6, 6))  # Create a new figure\n",
    "    plt.imshow(obs)  # Display the observation\n",
    "    plt.axis(\"off\")  # Hide axes\n",
    "    plt.show() \n",
    "    \n",
    "    if terminated or truncated:\n",
    "        break\n",
    "elapsed_time = time.time() - start_time\n",
    "print(elapsed_time)\n",
    "print(f\"Final Score: {score}\")\n",
    "\n"
   ]
  },
  {
   "cell_type": "code",
   "execution_count": null,
   "id": "114d08d0-fb92-407a-afdb-155582a0b8be",
   "metadata": {},
   "outputs": [],
   "source": []
  },
  {
   "cell_type": "markdown",
   "id": "c84570ff",
   "metadata": {},
   "source": []
  }
 ],
 "metadata": {
  "kernelspec": {
   "display_name": "Python 3 (ipykernel)",
   "language": "python",
   "name": "python3"
  },
  "language_info": {
   "codemirror_mode": {
    "name": "ipython",
    "version": 3
   },
   "file_extension": ".py",
   "mimetype": "text/x-python",
   "name": "python",
   "nbconvert_exporter": "python",
   "pygments_lexer": "ipython3",
   "version": "3.12.7"
  }
 },
 "nbformat": 4,
 "nbformat_minor": 5
}
