{
 "cells": [
  {
   "cell_type": "code",
   "execution_count": 10,
   "id": "48fe1fb9-08c9-4b8c-abbd-9212a028f6c8",
   "metadata": {},
   "outputs": [],
   "source": [
    "import pandas as pd\n",
    "import ale_py"
   ]
  },
  {
   "cell_type": "markdown",
   "id": "167d80a9-211a-478a-9537-f65276224036",
   "metadata": {},
   "source": [
    "https://ale.farama.org/environments/frogger/\n",
    "\\n\n",
    "https://ale.farama.org/environments/"
   ]
  },
  {
   "cell_type": "code",
   "execution_count": 11,
   "id": "bbbb75b2-8c40-43a0-b797-fb381874d070",
   "metadata": {},
   "outputs": [],
   "source": [
    "import gymnasium\n",
    "import os"
   ]
  },
  {
   "cell_type": "code",
   "execution_count": 12,
   "id": "4f570358-3e12-46a7-8c94-fb7a899108cc",
   "metadata": {},
   "outputs": [
    {
     "data": {
      "text/plain": [
       "<OrderEnforcing<PassiveEnvChecker<AtariEnv<ALE/Frogger-v5>>>>"
      ]
     },
     "execution_count": 12,
     "metadata": {},
     "output_type": "execute_result"
    }
   ],
   "source": [
    "gymnasium.make(\"ALE/Frogger-v5\")"
   ]
  },
  {
   "cell_type": "code",
   "execution_count": 13,
   "id": "02305c7a-6485-4dd9-8bdc-1692c655a43b",
   "metadata": {},
   "outputs": [
    {
     "name": "stdout",
     "output_type": "stream",
     "text": [
      "Defaulting to user installation because normal site-packages is not writeable\n",
      "Requirement already satisfied: gymnasium[accept-rom-licesnse,atari] in c:\\users\\dngo6\\appdata\\roaming\\python\\python39\\site-packages (1.0.0)\n",
      "Requirement already satisfied: cloudpickle>=1.2.0 in c:\\programdata\\anaconda3\\lib\\site-packages (from gymnasium[accept-rom-licesnse,atari]) (2.0.0)\n",
      "Requirement already satisfied: numpy>=1.21.0 in c:\\programdata\\anaconda3\\lib\\site-packages (from gymnasium[accept-rom-licesnse,atari]) (1.21.5)\n",
      "Requirement already satisfied: typing-extensions>=4.3.0 in c:\\programdata\\anaconda3\\lib\\site-packages (from gymnasium[accept-rom-licesnse,atari]) (4.3.0)\n",
      "Requirement already satisfied: importlib-metadata>=4.8.0 in c:\\programdata\\anaconda3\\lib\\site-packages (from gymnasium[accept-rom-licesnse,atari]) (4.11.3)\n",
      "Requirement already satisfied: farama-notifications>=0.0.1 in c:\\users\\dngo6\\appdata\\roaming\\python\\python39\\site-packages (from gymnasium[accept-rom-licesnse,atari]) (0.0.4)\n",
      "Requirement already satisfied: ale-py>=0.9 in c:\\users\\dngo6\\appdata\\roaming\\python\\python39\\site-packages (from gymnasium[accept-rom-licesnse,atari]) (0.10.2)\n",
      "Requirement already satisfied: zipp>=0.5 in c:\\programdata\\anaconda3\\lib\\site-packages (from importlib-metadata>=4.8.0->gymnasium[accept-rom-licesnse,atari]) (3.8.0)\n",
      "Note: you may need to restart the kernel to use updated packages.\n"
     ]
    },
    {
     "name": "stderr",
     "output_type": "stream",
     "text": [
      "WARNING: gymnasium 1.0.0 does not provide the extra 'accept-rom-licesnse'\n"
     ]
    }
   ],
   "source": [
    "pip install gymnasium[atari,accept-rom-licesnse]"
   ]
  },
  {
   "cell_type": "code",
   "execution_count": null,
   "id": "0024b302",
   "metadata": {},
   "outputs": [],
   "source": []
  },
  {
   "cell_type": "code",
   "execution_count": null,
   "id": "84c34e6c",
   "metadata": {},
   "outputs": [],
   "source": [
    "x"
   ]
  }
 ],
 "metadata": {
  "kernelspec": {
   "display_name": "Python 3 (ipykernel)",
   "language": "python",
   "name": "python3"
  },
  "language_info": {
   "codemirror_mode": {
    "name": "ipython",
    "version": 3
   },
   "file_extension": ".py",
   "mimetype": "text/x-python",
   "name": "python",
   "nbconvert_exporter": "python",
   "pygments_lexer": "ipython3",
   "version": "3.9.13"
  }
 },
 "nbformat": 4,
 "nbformat_minor": 5
}
