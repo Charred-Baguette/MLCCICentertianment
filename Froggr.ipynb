{
 "cells": [
  {
   "cell_type": "code",
   "execution_count": 1,
   "id": "48fe1fb9-08c9-4b8c-abbd-9212a028f6c8",
   "metadata": {},
   "outputs": [],
   "source": [
    "import pandas as pd"
   ]
  },
  {
   "cell_type": "markdown",
   "id": "167d80a9-211a-478a-9537-f65276224036",
   "metadata": {},
   "source": [
    "https://ale.farama.org/environments/frogger/\n",
    "\\n\n",
    "https://ale.farama.org/environments/"
   ]
  },
  {
   "cell_type": "code",
   "execution_count": 2,
   "id": "bbbb75b2-8c40-43a0-b797-fb381874d070",
   "metadata": {},
   "outputs": [],
   "source": [
    "import gymnasium as gym\n",
    "import os\n",
    "import ale_py\n",
    "import time"
   ]
  },
  {
   "cell_type": "code",
   "execution_count": 3,
   "id": "4f570358-3e12-46a7-8c94-fb7a899108cc",
   "metadata": {},
   "outputs": [],
   "source": [
    "env = gym.make(\"ALE/Frogger-v5\", render_mode=\"human\")"
   ]
  },
  {
   "cell_type": "markdown",
   "id": "5336434d",
   "metadata": {},
   "source": []
  },
  {
   "cell_type": "code",
   "execution_count": 5,
   "id": "bc188a0f-abdc-44cc-b669-60a34015a590",
   "metadata": {},
   "outputs": [
    {
     "name": "stdout",
     "output_type": "stream",
     "text": [
      "17.479612350463867\n",
      "Final Score: 7.0\n"
     ]
    }
   ],
   "source": [
    "\n",
    "obs, info = env.reset()\n",
    "start_time = time.time()\n",
    "score = 0\n",
    "for _ in range(1000):\n",
    "    env.render() \n",
    "    action = env.action_space.sample() \n",
    "    obs, reward, terminated, truncated, info = env.step(action)\n",
    "    score += reward\n",
    "    if terminated or truncated:\n",
    "        break\n",
    "elapsed_time = time.time() - start_time\n",
    "print(elapsed_time)\n",
    "print(f\"Final Score: {score}\")\n",
    "env.close()"
   ]
  },
  {
   "cell_type": "code",
   "execution_count": null,
   "id": "114d08d0-fb92-407a-afdb-155582a0b8be",
   "metadata": {},
   "outputs": [],
   "source": []
  },
  {
   "cell_type": "code",
   "execution_count": null,
   "id": "a3037dbb-0eb4-4e82-b3af-0d3ecc431e1f",
   "metadata": {},
   "outputs": [],
   "source": []
  }
 ],
 "metadata": {
  "kernelspec": {
   "display_name": "Python 3 (ipykernel)",
   "language": "python",
   "name": "python3"
  },
  "language_info": {
   "codemirror_mode": {
    "name": "ipython",
    "version": 3
   },
   "file_extension": ".py",
   "mimetype": "text/x-python",
   "name": "python",
   "nbconvert_exporter": "python",
   "pygments_lexer": "ipython3",
   "version": "3.12.7"
  }
 },
 "nbformat": 4,
 "nbformat_minor": 5
}
