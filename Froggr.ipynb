{
 "cells": [
  {
   "cell_type": "code",
   "execution_count": 1,
   "id": "48fe1fb9-08c9-4b8c-abbd-9212a028f6c8",
   "metadata": {},
   "outputs": [],
   "source": [
    "import pandas as pd"
   ]
  },
  {
   "cell_type": "markdown",
   "id": "167d80a9-211a-478a-9537-f65276224036",
   "metadata": {},
   "source": [
    "https://ale.farama.org/environments/frogger/\n",
    "\\n\n",
    "https://ale.farama.org/environments/"
   ]
  },
  {
   "cell_type": "code",
   "execution_count": 2,
   "id": "bbbb75b2-8c40-43a0-b797-fb381874d070",
   "metadata": {},
   "outputs": [],
   "source": [
    "import gymnasium\n",
    "import os\n",
    "import ale_py"
   ]
  },
  {
   "cell_type": "code",
   "execution_count": 3,
   "id": "4f570358-3e12-46a7-8c94-fb7a899108cc",
   "metadata": {},
   "outputs": [],
   "source": [
    "env = gymnasium.make(\"ALE/Frogger-v5\", render_mode=\"human\")\n",
    "env.reset()\n",
    "env.render()"
   ]
  },
  {
   "cell_type": "markdown",
   "id": "5336434d",
   "metadata": {},
   "source": []
  },
  {
   "cell_type": "code",
   "execution_count": 4,
   "id": "bc188a0f-abdc-44cc-b669-60a34015a590",
   "metadata": {},
   "outputs": [],
   "source": [
    "env.close()"
   ]
  }
 ],
 "metadata": {
  "kernelspec": {
   "display_name": "Python 3",
   "language": "python",
   "name": "python3"
  },
  "language_info": {
   "codemirror_mode": {
    "name": "ipython",
    "version": 3
   },
   "file_extension": ".py",
   "mimetype": "text/x-python",
   "name": "python",
   "nbconvert_exporter": "python",
   "pygments_lexer": "ipython3",
   "version": "3.13.0"
  }
 },
 "nbformat": 4,
 "nbformat_minor": 5
}
